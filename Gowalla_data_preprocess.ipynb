{
 "cells": [
  {
   "cell_type": "code",
   "execution_count": 1,
   "metadata": {},
   "outputs": [],
   "source": [
    "import pandas as pd\n",
    "\n",
    "# Load the checkins and edges text files\n",
    "checkins_df = pd.read_csv('loc-gowalla_totalCheckins.txt\\Gowalla_totalCheckins.txt', delimiter='\\t')  # assuming tab-separated\n",
    "edges_df = pd.read_csv('loc-gowalla_edges.txt\\Gowalla_edges.txt', delimiter='\\t')  # assuming tab-separated"
   ]
  },
  {
   "cell_type": "code",
   "execution_count": 2,
   "metadata": {},
   "outputs": [],
   "source": [
    "checkins_df.columns = ['user', 'timestamp', 'latitude', 'longitude', 'location_id']\n",
    "edges_df.columns = ['user_id_1', 'user_id_2']"
   ]
  },
  {
   "cell_type": "code",
   "execution_count": 3,
   "metadata": {},
   "outputs": [
    {
     "data": {
      "text/html": [
       "<div>\n",
       "<style scoped>\n",
       "    .dataframe tbody tr th:only-of-type {\n",
       "        vertical-align: middle;\n",
       "    }\n",
       "\n",
       "    .dataframe tbody tr th {\n",
       "        vertical-align: top;\n",
       "    }\n",
       "\n",
       "    .dataframe thead th {\n",
       "        text-align: right;\n",
       "    }\n",
       "</style>\n",
       "<table border=\"1\" class=\"dataframe\">\n",
       "  <thead>\n",
       "    <tr style=\"text-align: right;\">\n",
       "      <th></th>\n",
       "      <th>user</th>\n",
       "      <th>timestamp</th>\n",
       "      <th>latitude</th>\n",
       "      <th>longitude</th>\n",
       "      <th>location_id</th>\n",
       "    </tr>\n",
       "  </thead>\n",
       "  <tbody>\n",
       "    <tr>\n",
       "      <th>0</th>\n",
       "      <td>0</td>\n",
       "      <td>2010-10-18T22:17:43Z</td>\n",
       "      <td>30.269103</td>\n",
       "      <td>-97.749395</td>\n",
       "      <td>420315</td>\n",
       "    </tr>\n",
       "    <tr>\n",
       "      <th>1</th>\n",
       "      <td>0</td>\n",
       "      <td>2010-10-17T23:42:03Z</td>\n",
       "      <td>30.255731</td>\n",
       "      <td>-97.763386</td>\n",
       "      <td>316637</td>\n",
       "    </tr>\n",
       "    <tr>\n",
       "      <th>2</th>\n",
       "      <td>0</td>\n",
       "      <td>2010-10-17T19:26:05Z</td>\n",
       "      <td>30.263418</td>\n",
       "      <td>-97.757597</td>\n",
       "      <td>16516</td>\n",
       "    </tr>\n",
       "    <tr>\n",
       "      <th>3</th>\n",
       "      <td>0</td>\n",
       "      <td>2010-10-16T18:50:42Z</td>\n",
       "      <td>30.274292</td>\n",
       "      <td>-97.740523</td>\n",
       "      <td>5535878</td>\n",
       "    </tr>\n",
       "    <tr>\n",
       "      <th>4</th>\n",
       "      <td>0</td>\n",
       "      <td>2010-10-12T23:58:03Z</td>\n",
       "      <td>30.261599</td>\n",
       "      <td>-97.758581</td>\n",
       "      <td>15372</td>\n",
       "    </tr>\n",
       "  </tbody>\n",
       "</table>\n",
       "</div>"
      ],
      "text/plain": [
       "   user             timestamp   latitude  longitude  location_id\n",
       "0     0  2010-10-18T22:17:43Z  30.269103 -97.749395       420315\n",
       "1     0  2010-10-17T23:42:03Z  30.255731 -97.763386       316637\n",
       "2     0  2010-10-17T19:26:05Z  30.263418 -97.757597        16516\n",
       "3     0  2010-10-16T18:50:42Z  30.274292 -97.740523      5535878\n",
       "4     0  2010-10-12T23:58:03Z  30.261599 -97.758581        15372"
      ]
     },
     "execution_count": 3,
     "metadata": {},
     "output_type": "execute_result"
    }
   ],
   "source": [
    "checkins_df.head()"
   ]
  },
  {
   "cell_type": "code",
   "execution_count": null,
   "metadata": {},
   "outputs": [
    {
     "data": {
      "text/plain": [
       "(107092, 196591, 196591)"
      ]
     },
     "execution_count": 9,
     "metadata": {},
     "output_type": "execute_result"
    }
   ],
   "source": [
    "len(checkins_df['user'].unique()), len(edges_df['user_id_1'].unique()), len(edges_df['user_id_2'].unique()) "
   ]
  },
  {
   "cell_type": "code",
   "execution_count": 4,
   "metadata": {},
   "outputs": [
    {
     "data": {
      "text/html": [
       "<div>\n",
       "<style scoped>\n",
       "    .dataframe tbody tr th:only-of-type {\n",
       "        vertical-align: middle;\n",
       "    }\n",
       "\n",
       "    .dataframe tbody tr th {\n",
       "        vertical-align: top;\n",
       "    }\n",
       "\n",
       "    .dataframe thead th {\n",
       "        text-align: right;\n",
       "    }\n",
       "</style>\n",
       "<table border=\"1\" class=\"dataframe\">\n",
       "  <thead>\n",
       "    <tr style=\"text-align: right;\">\n",
       "      <th></th>\n",
       "      <th>user_id_1</th>\n",
       "      <th>user_id_2</th>\n",
       "    </tr>\n",
       "  </thead>\n",
       "  <tbody>\n",
       "    <tr>\n",
       "      <th>0</th>\n",
       "      <td>0</td>\n",
       "      <td>2</td>\n",
       "    </tr>\n",
       "    <tr>\n",
       "      <th>1</th>\n",
       "      <td>0</td>\n",
       "      <td>3</td>\n",
       "    </tr>\n",
       "    <tr>\n",
       "      <th>2</th>\n",
       "      <td>0</td>\n",
       "      <td>4</td>\n",
       "    </tr>\n",
       "    <tr>\n",
       "      <th>3</th>\n",
       "      <td>0</td>\n",
       "      <td>5</td>\n",
       "    </tr>\n",
       "    <tr>\n",
       "      <th>4</th>\n",
       "      <td>0</td>\n",
       "      <td>6</td>\n",
       "    </tr>\n",
       "  </tbody>\n",
       "</table>\n",
       "</div>"
      ],
      "text/plain": [
       "   user_id_1  user_id_2\n",
       "0          0          2\n",
       "1          0          3\n",
       "2          0          4\n",
       "3          0          5\n",
       "4          0          6"
      ]
     },
     "execution_count": 4,
     "metadata": {},
     "output_type": "execute_result"
    }
   ],
   "source": [
    "edges_df.head()"
   ]
  },
  {
   "cell_type": "code",
   "execution_count": 10,
   "metadata": {},
   "outputs": [],
   "source": [
    "import pandas as pd\n",
    "import numpy as np\n",
    "import torch\n",
    "from scipy.sparse import coo_matrix\n",
    "\n",
    "\n",
    "# Drop NaN values (if any)\n",
    "edges_df.dropna(inplace=True)"
   ]
  },
  {
   "cell_type": "code",
   "execution_count": 12,
   "metadata": {},
   "outputs": [],
   "source": [
    "# Remap user IDs to a contiguous zero-based range\n",
    "all_users = np.concatenate([edges_df['user_id_1'].values, edges_df['user_id_2'].values])\n",
    "unique_users, user_map = np.unique(all_users, return_inverse=True)"
   ]
  },
  {
   "cell_type": "code",
   "execution_count": 14,
   "metadata": {},
   "outputs": [
    {
     "data": {
      "text/plain": [
       "array([     0,      0,      0, ..., 196540, 196547, 196561], dtype=int64)"
      ]
     },
     "execution_count": 14,
     "metadata": {},
     "output_type": "execute_result"
    }
   ],
   "source": [
    "user_map"
   ]
  },
  {
   "cell_type": "code",
   "execution_count": 15,
   "metadata": {},
   "outputs": [
    {
     "name": "stdout",
     "output_type": "stream",
     "text": [
      "Adjacency Matrix Shape: torch.Size([196591, 196591])\n"
     ]
    }
   ],
   "source": [
    "# Assign new user IDs\n",
    "user_1 = user_map[: len(edges_df)]\n",
    "user_2 = user_map[len(edges_df) :]\n",
    "\n",
    "# Ensure undirected graph (add reverse edges)\n",
    "user_1 = np.concatenate([user_1, user_2])\n",
    "user_2 = np.concatenate([user_2, user_1[: len(user_2)]])  # FIXED HERE\n",
    "\n",
    "# Compute the correct number of users\n",
    "num_users = len(unique_users)\n",
    "\n",
    "# Create adjacency matrix\n",
    "data = np.ones(len(user_1))  # Each interaction has weight=1\n",
    "\n",
    "# Check for mismatched lengths\n",
    "assert len(user_1) == len(user_2) == len(data), f\"Mismatch in lengths: {len(user_1)}, {len(user_2)}, {len(data)}\"\n",
    "\n",
    "# Create the sparse adjacency matrix\n",
    "adj_matrix = coo_matrix((data, (user_1, user_2)), shape=(num_users, num_users))\n",
    "\n",
    "# Convert to PyTorch sparse tensor\n",
    "adj_matrix_tensor = torch.sparse_coo_tensor(\n",
    "    torch.LongTensor(np.vstack((adj_matrix.row, adj_matrix.col))),\n",
    "    torch.FloatTensor(adj_matrix.data),\n",
    "    adj_matrix.shape\n",
    ")\n",
    "\n",
    "print(f\"Adjacency Matrix Shape: {adj_matrix_tensor.shape}\")"
   ]
  },
  {
   "cell_type": "code",
   "execution_count": 16,
   "metadata": {},
   "outputs": [
    {
     "name": "stdout",
     "output_type": "stream",
     "text": [
      "Normalized Adjacency Matrix Shape: torch.Size([196591, 196591])\n"
     ]
    },
    {
     "name": "stderr",
     "output_type": "stream",
     "text": [
      "C:\\Users\\prana\\AppData\\Local\\Temp\\ipykernel_10392\\758334876.py:11: UserWarning: Creating a tensor from a list of numpy.ndarrays is extremely slow. Please consider converting the list to a single numpy.ndarray with numpy.array() before converting to a tensor. (Triggered internally at C:\\actions-runner\\_work\\pytorch\\pytorch\\pytorch\\torch\\csrc\\utils\\tensor_new.cpp:257.)\n",
      "  norm_adj_matrix_tensor = torch.sparse_coo_tensor(torch.LongTensor([norm_adj_matrix.row, norm_adj_matrix.col]), torch.FloatTensor(norm_adj_matrix.data), norm_adj_matrix.shape)\n"
     ]
    }
   ],
   "source": [
    "# Compute the degree matrix D\n",
    "degree_matrix = np.array(adj_matrix.sum(axis=1)).flatten()\n",
    "\n",
    "# D^{-1/2}\n",
    "degree_inv_sqrt = np.power(degree_matrix, -0.5)\n",
    "\n",
    "# Apply normalization\n",
    "norm_adj_matrix = adj_matrix.multiply(degree_inv_sqrt).multiply(degree_inv_sqrt[:, np.newaxis])\n",
    "\n",
    "# Convert to tensor\n",
    "norm_adj_matrix_tensor = torch.sparse_coo_tensor(torch.LongTensor([norm_adj_matrix.row, norm_adj_matrix.col]), torch.FloatTensor(norm_adj_matrix.data), norm_adj_matrix.shape)\n",
    "\n",
    "print(f\"Normalized Adjacency Matrix Shape: {norm_adj_matrix_tensor.shape}\")\n"
   ]
  }
 ],
 "metadata": {
  "kernelspec": {
   "display_name": "myenv",
   "language": "python",
   "name": "python3"
  },
  "language_info": {
   "codemirror_mode": {
    "name": "ipython",
    "version": 3
   },
   "file_extension": ".py",
   "mimetype": "text/x-python",
   "name": "python",
   "nbconvert_exporter": "python",
   "pygments_lexer": "ipython3",
   "version": "3.11.1"
  }
 },
 "nbformat": 4,
 "nbformat_minor": 2
}
